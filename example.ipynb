{
 "cells": [
  {
   "cell_type": "markdown",
   "metadata": {},
   "source": [
    "# Sudoku Solver - Experimentation"
   ]
  },
  {
   "cell_type": "markdown",
   "metadata": {},
   "source": [
    "## Imports"
   ]
  },
  {
   "cell_type": "code",
   "execution_count": 1,
   "metadata": {},
   "outputs": [],
   "source": [
    "import numpy as np\n",
    "from solver import solve_sudoku\n",
    "from utils import display_sudoku"
   ]
  },
  {
   "cell_type": "markdown",
   "metadata": {},
   "source": [
    "## Sudoku board"
   ]
  },
  {
   "cell_type": "code",
   "execution_count": 2,
   "metadata": {},
   "outputs": [
    {
     "name": "stdout",
     "output_type": "stream",
     "text": [
      "-------------------------\n",
      "| 5 3 . | . 7 . | . . . |\n",
      "| 6 . . | 1 9 5 | . . . |\n",
      "| . 9 8 | . . . | . 6 . |\n",
      "-------------------------\n",
      "| 8 . . | . 6 . | . . 3 |\n",
      "| 4 . . | 8 . 3 | . . 1 |\n",
      "| 7 . . | . 2 . | . . 6 |\n",
      "-------------------------\n",
      "| . 6 . | . . . | 2 8 . |\n",
      "| . . . | 4 1 9 | . . 5 |\n",
      "| . . . | . 8 . | . 7 9 |\n",
      "-------------------------\n"
     ]
    }
   ],
   "source": [
    "# Example usage:\n",
    "sudoku_board = np.array([\n",
    "    [5, 3, 0, 0, 7, 0, 0, 0, 0],\n",
    "    [6, 0, 0, 1, 9, 5, 0, 0, 0],\n",
    "    [0, 9, 8, 0, 0, 0, 0, 6, 0],\n",
    "    [8, 0, 0, 0, 6, 0, 0, 0, 3],\n",
    "    [4, 0, 0, 8, 0, 3, 0, 0, 1],\n",
    "    [7, 0, 0, 0, 2, 0, 0, 0, 6],\n",
    "    [0, 6, 0, 0, 0, 0, 2, 8, 0],\n",
    "    [0, 0, 0, 4, 1, 9, 0, 0, 5],\n",
    "    [0, 0, 0, 0, 8, 0, 0, 7, 9]\n",
    "])\n",
    "\n",
    "# Display the Sudoku\n",
    "display_sudoku(sudoku_board)"
   ]
  },
  {
   "cell_type": "markdown",
   "metadata": {},
   "source": [
    "## Solving Sudoku Problem"
   ]
  },
  {
   "cell_type": "code",
   "execution_count": 3,
   "metadata": {},
   "outputs": [
    {
     "name": "stdout",
     "output_type": "stream",
     "text": [
      "Welcome to the CBC MILP Solver \n",
      "Version: 2.10.3 \n",
      "Build Date: Dec 15 2019 \n",
      "\n",
      "command line - /home/cytech/.local/lib/python3.8/site-packages/pulp/solverdir/cbc/linux/64/cbc /tmp/2db6486b0359405db016b9ff66831611-pulp.mps -max -timeMode elapsed -branch -printingOptions all -solution /tmp/2db6486b0359405db016b9ff66831611-pulp.sol (default strategy 1)\n",
      "At line 2 NAME          MODEL\n",
      "At line 3 ROWS\n",
      "At line 359 COLUMNS\n",
      "At line 4765 RHS\n",
      "At line 5120 BOUNDS\n",
      "At line 5851 ENDATA\n",
      "Problem MODEL has 354 rows, 730 columns and 2946 elements\n",
      "Coin0008I MODEL read with 0 errors\n",
      "Option for timeMode changed from cpu to elapsed\n",
      "Continuous objective value is 0 - 0.00 seconds\n",
      "Cgl0004I processed model has 0 rows, 0 columns (0 integer (0 of which binary)) and 0 elements\n",
      "Cbc3007W No integer variables - nothing to do\n",
      "Cuts at root node changed objective from 0 to -1.79769e+308\n",
      "Probing was tried 0 times and created 0 cuts of which 0 were active after adding rounds of cuts (0.000 seconds)\n",
      "Gomory was tried 0 times and created 0 cuts of which 0 were active after adding rounds of cuts (0.000 seconds)\n",
      "Knapsack was tried 0 times and created 0 cuts of which 0 were active after adding rounds of cuts (0.000 seconds)\n",
      "Clique was tried 0 times and created 0 cuts of which 0 were active after adding rounds of cuts (0.000 seconds)\n",
      "MixedIntegerRounding2 was tried 0 times and created 0 cuts of which 0 were active after adding rounds of cuts (0.000 seconds)\n",
      "FlowCover was tried 0 times and created 0 cuts of which 0 were active after adding rounds of cuts (0.000 seconds)\n",
      "TwoMirCuts was tried 0 times and created 0 cuts of which 0 were active after adding rounds of cuts (0.000 seconds)\n",
      "ZeroHalf was tried 0 times and created 0 cuts of which 0 were active after adding rounds of cuts (0.000 seconds)\n",
      "\n",
      "Result - Optimal solution found\n",
      "\n",
      "Objective value:                0.00000000\n",
      "Enumerated nodes:               0\n",
      "Total iterations:               0\n",
      "Time (CPU seconds):             0.02\n",
      "Time (Wallclock seconds):       0.03\n",
      "\n",
      "Option for printingOptions changed from normal to all\n",
      "Total time (CPU seconds):       0.03   (Wallclock seconds):       0.04\n",
      "\n"
     ]
    }
   ],
   "source": [
    "solved_sudoku = solve_sudoku(sudoku_board)"
   ]
  },
  {
   "cell_type": "code",
   "execution_count": 4,
   "metadata": {},
   "outputs": [
    {
     "name": "stdout",
     "output_type": "stream",
     "text": [
      "-------------------------\n",
      "| 5 3 4 | 6 7 8 | 9 1 2 |\n",
      "| 6 7 2 | 1 9 5 | 3 4 8 |\n",
      "| 1 9 8 | 3 4 2 | 5 6 7 |\n",
      "-------------------------\n",
      "| 8 5 9 | 7 6 1 | 4 2 3 |\n",
      "| 4 2 6 | 8 5 3 | 7 9 1 |\n",
      "| 7 1 3 | 9 2 4 | 8 5 6 |\n",
      "-------------------------\n",
      "| 9 6 1 | 5 3 7 | 2 8 4 |\n",
      "| 2 8 7 | 4 1 9 | 6 3 5 |\n",
      "| 3 4 5 | 2 8 6 | 1 7 9 |\n",
      "-------------------------\n"
     ]
    }
   ],
   "source": [
    "display_sudoku(solved_sudoku)"
   ]
  }
 ],
 "metadata": {
  "kernelspec": {
   "display_name": "Python 3",
   "language": "python",
   "name": "python3"
  },
  "language_info": {
   "codemirror_mode": {
    "name": "ipython",
    "version": 3
   },
   "file_extension": ".py",
   "mimetype": "text/x-python",
   "name": "python",
   "nbconvert_exporter": "python",
   "pygments_lexer": "ipython3",
   "version": "3.8.10"
  }
 },
 "nbformat": 4,
 "nbformat_minor": 2
}
